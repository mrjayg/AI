{
 "cells": [
  {
   "cell_type": "code",
   "execution_count": 1,
   "id": "ea838bdc-d72c-4c34-8425-499a9d929870",
   "metadata": {},
   "outputs": [
    {
     "name": "stdin",
     "output_type": "stream",
     "text": [
      "Enter the number of jobs:  4\n",
      "Enter Job ID:  A\n",
      "Enter deadline for job A:  4\n",
      "Enter profit for job A:  20\n",
      "Enter Job ID:  B\n",
      "Enter deadline for job B:  1\n",
      "Enter profit for job B:  10\n",
      "Enter Job ID:  C\n",
      "Enter deadline for job C:  1\n",
      "Enter profit for job C:  40\n",
      "Enter Job ID:  D\n",
      "Enter deadline for job D:  1\n",
      "Enter profit for job D:  30\n"
     ]
    },
    {
     "name": "stdout",
     "output_type": "stream",
     "text": [
      "\n",
      "Optimal job sequence: ['C', 'A']\n",
      "Total profit: 60\n"
     ]
    }
   ],
   "source": [
    "def job_sequencing(jobs):\n",
    "    # Sort jobs based on descending profit\n",
    "    jobs.sort(key=lambda x: x[2], reverse=True)\n",
    "    \n",
    "    # Find the maximum deadline to determine the number of time slots\n",
    "    max_deadline = max(job[1] for job in jobs)\n",
    "    \n",
    "    # Initialize time slots and total profit\n",
    "    time_slots = [-1] * max_deadline\n",
    "    total_profit = 0\n",
    "    \n",
    "    # Iterate through each job\n",
    "    for job in jobs:\n",
    "        job_id, deadline, profit = job\n",
    "        # Find a free time slot for this job (starting from the last possible slot)\n",
    "        for slot in range(min(deadline, max_deadline) - 1, -1, -1):\n",
    "            if time_slots[slot] == -1:\n",
    "                time_slots[slot] = job_id\n",
    "                total_profit += profit\n",
    "                break\n",
    "    \n",
    "    # Filter out unassigned slots and prepare the job sequence\n",
    "    job_sequence = [job_id for job_id in time_slots if job_id != -1]\n",
    "    \n",
    "    return job_sequence, total_profit\n",
    "\n",
    "# Function to get user input\n",
    "def get_user_input():\n",
    "    jobs = []\n",
    "    num_jobs = int(input(\"Enter the number of jobs: \"))\n",
    "    for _ in range(num_jobs):\n",
    "        job_id = input(\"Enter Job ID: \")\n",
    "        deadline = int(input(f\"Enter deadline for job {job_id}: \"))\n",
    "        profit = int(input(f\"Enter profit for job {job_id}: \"))\n",
    "        jobs.append((job_id, deadline, profit))\n",
    "    return jobs\n",
    "\n",
    "# Main function\n",
    "def main():\n",
    "    jobs = get_user_input()\n",
    "    sequence, profit = job_sequencing(jobs)\n",
    "    print(f\"\\nOptimal job sequence: {sequence}\")\n",
    "    print(f\"Total profit: {profit}\")\n",
    "\n",
    "if __name__ == \"__main__\":\n",
    "    main()\n"
   ]
  },
  {
   "cell_type": "code",
   "execution_count": null,
   "id": "81d0c0de-54ca-4843-a51e-60cc6367892b",
   "metadata": {},
   "outputs": [],
   "source": []
  }
 ],
 "metadata": {
  "kernelspec": {
   "display_name": "Python 3 (ipykernel)",
   "language": "python",
   "name": "python3"
  },
  "language_info": {
   "codemirror_mode": {
    "name": "ipython",
    "version": 3
   },
   "file_extension": ".py",
   "mimetype": "text/x-python",
   "name": "python",
   "nbconvert_exporter": "python",
   "pygments_lexer": "ipython3",
   "version": "3.12.4"
  }
 },
 "nbformat": 4,
 "nbformat_minor": 5
}
